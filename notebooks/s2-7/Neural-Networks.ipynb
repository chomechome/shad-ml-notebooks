{
 "cells": [
  {
   "cell_type": "markdown",
   "metadata": {},
   "source": [
    "# Artificial Neuron: McCalloch and Pitts\n",
    "![](http://cs231n.github.io/assets/nn1/neuron.png)\n",
    "![](http://cs231n.github.io/assets/nn1/neuron_model.jpeg)"
   ]
  },
  {
   "cell_type": "markdown",
   "metadata": {},
   "source": [
    "# Activation Functions\n",
    "### <center>Sigmoid</center>\n",
    "![](https://wikimedia.org/api/rest_v1/media/math/render/svg/b2a78e39c42d7d51c4041d142740a7719e55b314)\n",
    "![](http://cs231n.github.io/assets/nn1/sigmoid.jpeg)\n",
    "### <center>Tanh</center>\n",
    "![](http://cs231n.github.io/assets/nn1/tanh.jpeg)\n",
    "### <center>ReLU (Rectified Linear Unit)</center>\n",
    "![](https://wikimedia.org/api/rest_v1/media/math/render/svg/3748c43adcce6520cc09f8e5259f6b9db371cbe8)\n",
    "![](http://cs231n.github.io/assets/nn1/relu.jpeg)"
   ]
  },
  {
   "cell_type": "markdown",
   "metadata": {},
   "source": [
    "# Fully-Connected Neural Net Architecture\n",
    "![](network.png)"
   ]
  },
  {
   "cell_type": "markdown",
   "metadata": {},
   "source": [
    "### <center>[Visualizations](http://playground.tensorflow.org/)</center>"
   ]
  },
  {
   "cell_type": "markdown",
   "metadata": {},
   "source": [
    "# Learning\n",
    "### <center>Chain Rule</center> \n",
    "![](https://wikimedia.org/api/rest_v1/media/math/render/svg/e1dfc1ad15251bd965f3737d0b8fa8b67ef3cccb)\n",
    "### <center>Backpropagation</center>\n",
    "```python\n",
    "# set some inputs\n",
    "x = -2; y = 5; z = -4\n",
    "\n",
    "# perform the forward pass\n",
    "q = x + y # q becomes 3\n",
    "f = q * z # f becomes -12\n",
    "\n",
    "# perform the backward pass (backpropagation) in reverse order:\n",
    "# first backprop through f = q * z\n",
    "dfdz = q # df/dz = q, so gradient on z becomes 3\n",
    "dfdq = z # df/dq = z, so gradient on q becomes -4\n",
    "# now backprop through q = x + y\n",
    "dfdx = 1.0 * dfdq # dq/dx = 1. And the multiplication here is the chain rule!\n",
    "dfdy = 1.0 * dfdq # dq/dy = 1\n",
    "```\n",
    "![](backpropagation.png)"
   ]
  },
  {
   "cell_type": "markdown",
   "metadata": {},
   "source": [
    "# Libraries\n",
    "[Nvidia](https://developer.nvidia.com/deep-learning-software)\n",
    "### Python\n",
    "[Theano](http://deeplearning.net/software/theano/)\n",
    "\n",
    "[Lasagne](https://lasagne.readthedocs.io/en/latest/)\n",
    "\n",
    "[Tensorflow](https://www.tensorflow.org/)\n",
    "\n",
    "[Keras](https://keras.io/)\n",
    "### Javascript\n",
    "[ConvNetJs](http://cs.stanford.edu/people/karpathy/convnetjs/)\n",
    "### C++\n",
    "[Caffe](http://caffe.berkeleyvision.org/)\n",
    "### Lua\n",
    "[Torch](http://torch.ch/)"
   ]
  },
  {
   "cell_type": "markdown",
   "metadata": {},
   "source": [
    "# Links\n",
    "[Stanford Course](http://cs231n.github.io/)"
   ]
  }
 ],
 "metadata": {
  "kernelspec": {
   "display_name": "Python 3",
   "language": "python",
   "name": "python3"
  },
  "language_info": {
   "codemirror_mode": {
    "name": "ipython",
    "version": 3
   },
   "file_extension": ".py",
   "mimetype": "text/x-python",
   "name": "python",
   "nbconvert_exporter": "python",
   "pygments_lexer": "ipython3",
   "version": "3.5.2"
  }
 },
 "nbformat": 4,
 "nbformat_minor": 1
}
